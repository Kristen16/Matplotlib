{
 "cells": [
  {
   "cell_type": "code",
   "execution_count": 40,
   "metadata": {
    "collapsed": true
   },
   "outputs": [],
   "source": [
    "import matplotlib.pyplot as plt\n",
    "import numpy as np\n",
    "import pandas as pd"
   ]
  },
  {
   "cell_type": "code",
   "execution_count": 41,
   "metadata": {},
   "outputs": [],
   "source": [
    "city_data = \"Untitled Folder/city_data.csv\"\n",
    "ride_data = \"Untitled Folder/ride_data.csv\"\n",
    "\n",
    "city_data_df = pd.read_csv(city_data)\n",
    "ride_data_df = pd.read_csv(ride_data)\n",
    "\n"
   ]
  },
  {
   "cell_type": "code",
   "execution_count": 42,
   "metadata": {},
   "outputs": [
    {
     "data": {
      "text/html": [
       "<div>\n",
       "<style>\n",
       "    .dataframe thead tr:only-child th {\n",
       "        text-align: right;\n",
       "    }\n",
       "\n",
       "    .dataframe thead th {\n",
       "        text-align: left;\n",
       "    }\n",
       "\n",
       "    .dataframe tbody tr th {\n",
       "        vertical-align: top;\n",
       "    }\n",
       "</style>\n",
       "<table border=\"1\" class=\"dataframe\">\n",
       "  <thead>\n",
       "    <tr style=\"text-align: right;\">\n",
       "      <th></th>\n",
       "      <th>city</th>\n",
       "      <th>driver_count</th>\n",
       "      <th>type</th>\n",
       "      <th>fare</th>\n",
       "      <th>ride_id</th>\n",
       "    </tr>\n",
       "  </thead>\n",
       "  <tbody>\n",
       "    <tr>\n",
       "      <th>0</th>\n",
       "      <td>Kelseyland</td>\n",
       "      <td>63</td>\n",
       "      <td>Urban</td>\n",
       "      <td>5.51</td>\n",
       "      <td>6246006544795</td>\n",
       "    </tr>\n",
       "    <tr>\n",
       "      <th>1</th>\n",
       "      <td>Kelseyland</td>\n",
       "      <td>63</td>\n",
       "      <td>Urban</td>\n",
       "      <td>5.54</td>\n",
       "      <td>7466473222333</td>\n",
       "    </tr>\n",
       "    <tr>\n",
       "      <th>2</th>\n",
       "      <td>Kelseyland</td>\n",
       "      <td>63</td>\n",
       "      <td>Urban</td>\n",
       "      <td>30.54</td>\n",
       "      <td>2140501382736</td>\n",
       "    </tr>\n",
       "    <tr>\n",
       "      <th>3</th>\n",
       "      <td>Kelseyland</td>\n",
       "      <td>63</td>\n",
       "      <td>Urban</td>\n",
       "      <td>12.08</td>\n",
       "      <td>1896987891309</td>\n",
       "    </tr>\n",
       "    <tr>\n",
       "      <th>4</th>\n",
       "      <td>Kelseyland</td>\n",
       "      <td>63</td>\n",
       "      <td>Urban</td>\n",
       "      <td>17.91</td>\n",
       "      <td>8784212854829</td>\n",
       "    </tr>\n",
       "    <tr>\n",
       "      <th>5</th>\n",
       "      <td>Kelseyland</td>\n",
       "      <td>63</td>\n",
       "      <td>Urban</td>\n",
       "      <td>33.56</td>\n",
       "      <td>4797969661996</td>\n",
       "    </tr>\n",
       "    <tr>\n",
       "      <th>6</th>\n",
       "      <td>Kelseyland</td>\n",
       "      <td>63</td>\n",
       "      <td>Urban</td>\n",
       "      <td>20.81</td>\n",
       "      <td>9811478565448</td>\n",
       "    </tr>\n",
       "    <tr>\n",
       "      <th>7</th>\n",
       "      <td>Kelseyland</td>\n",
       "      <td>63</td>\n",
       "      <td>Urban</td>\n",
       "      <td>44.53</td>\n",
       "      <td>1563171128434</td>\n",
       "    </tr>\n",
       "    <tr>\n",
       "      <th>8</th>\n",
       "      <td>Kelseyland</td>\n",
       "      <td>63</td>\n",
       "      <td>Urban</td>\n",
       "      <td>29.02</td>\n",
       "      <td>6897992353955</td>\n",
       "    </tr>\n",
       "    <tr>\n",
       "      <th>9</th>\n",
       "      <td>Kelseyland</td>\n",
       "      <td>63</td>\n",
       "      <td>Urban</td>\n",
       "      <td>20.05</td>\n",
       "      <td>1148374505062</td>\n",
       "    </tr>\n",
       "    <tr>\n",
       "      <th>10</th>\n",
       "      <td>Kelseyland</td>\n",
       "      <td>63</td>\n",
       "      <td>Urban</td>\n",
       "      <td>9.29</td>\n",
       "      <td>213692794373</td>\n",
       "    </tr>\n",
       "    <tr>\n",
       "      <th>11</th>\n",
       "      <td>Kelseyland</td>\n",
       "      <td>63</td>\n",
       "      <td>Urban</td>\n",
       "      <td>20.58</td>\n",
       "      <td>3395682132130</td>\n",
       "    </tr>\n",
       "    <tr>\n",
       "      <th>12</th>\n",
       "      <td>Kelseyland</td>\n",
       "      <td>63</td>\n",
       "      <td>Urban</td>\n",
       "      <td>27.45</td>\n",
       "      <td>8456148871668</td>\n",
       "    </tr>\n",
       "    <tr>\n",
       "      <th>13</th>\n",
       "      <td>Kelseyland</td>\n",
       "      <td>63</td>\n",
       "      <td>Urban</td>\n",
       "      <td>33.51</td>\n",
       "      <td>6610565660737</td>\n",
       "    </tr>\n",
       "    <tr>\n",
       "      <th>14</th>\n",
       "      <td>Kelseyland</td>\n",
       "      <td>63</td>\n",
       "      <td>Urban</td>\n",
       "      <td>6.56</td>\n",
       "      <td>8101498434215</td>\n",
       "    </tr>\n",
       "    <tr>\n",
       "      <th>15</th>\n",
       "      <td>Kelseyland</td>\n",
       "      <td>63</td>\n",
       "      <td>Urban</td>\n",
       "      <td>20.19</td>\n",
       "      <td>3054122642867</td>\n",
       "    </tr>\n",
       "    <tr>\n",
       "      <th>16</th>\n",
       "      <td>Kelseyland</td>\n",
       "      <td>63</td>\n",
       "      <td>Urban</td>\n",
       "      <td>35.22</td>\n",
       "      <td>5946467060438</td>\n",
       "    </tr>\n",
       "    <tr>\n",
       "      <th>17</th>\n",
       "      <td>Kelseyland</td>\n",
       "      <td>63</td>\n",
       "      <td>Urban</td>\n",
       "      <td>10.31</td>\n",
       "      <td>2180910323678</td>\n",
       "    </tr>\n",
       "    <tr>\n",
       "      <th>18</th>\n",
       "      <td>Kelseyland</td>\n",
       "      <td>63</td>\n",
       "      <td>Urban</td>\n",
       "      <td>11.45</td>\n",
       "      <td>600800386573</td>\n",
       "    </tr>\n",
       "    <tr>\n",
       "      <th>19</th>\n",
       "      <td>Kelseyland</td>\n",
       "      <td>63</td>\n",
       "      <td>Urban</td>\n",
       "      <td>27.85</td>\n",
       "      <td>5748868894243</td>\n",
       "    </tr>\n",
       "    <tr>\n",
       "      <th>20</th>\n",
       "      <td>Kelseyland</td>\n",
       "      <td>63</td>\n",
       "      <td>Urban</td>\n",
       "      <td>8.27</td>\n",
       "      <td>4384089549855</td>\n",
       "    </tr>\n",
       "    <tr>\n",
       "      <th>21</th>\n",
       "      <td>Kelseyland</td>\n",
       "      <td>63</td>\n",
       "      <td>Urban</td>\n",
       "      <td>31.67</td>\n",
       "      <td>2865704421982</td>\n",
       "    </tr>\n",
       "    <tr>\n",
       "      <th>22</th>\n",
       "      <td>Kelseyland</td>\n",
       "      <td>63</td>\n",
       "      <td>Urban</td>\n",
       "      <td>40.92</td>\n",
       "      <td>2769007541388</td>\n",
       "    </tr>\n",
       "    <tr>\n",
       "      <th>23</th>\n",
       "      <td>Kelseyland</td>\n",
       "      <td>63</td>\n",
       "      <td>Urban</td>\n",
       "      <td>12.58</td>\n",
       "      <td>6629798205387</td>\n",
       "    </tr>\n",
       "    <tr>\n",
       "      <th>24</th>\n",
       "      <td>Kelseyland</td>\n",
       "      <td>63</td>\n",
       "      <td>Urban</td>\n",
       "      <td>16.77</td>\n",
       "      <td>7223504701591</td>\n",
       "    </tr>\n",
       "    <tr>\n",
       "      <th>25</th>\n",
       "      <td>Kelseyland</td>\n",
       "      <td>63</td>\n",
       "      <td>Urban</td>\n",
       "      <td>27.21</td>\n",
       "      <td>831362906446</td>\n",
       "    </tr>\n",
       "    <tr>\n",
       "      <th>26</th>\n",
       "      <td>Kelseyland</td>\n",
       "      <td>63</td>\n",
       "      <td>Urban</td>\n",
       "      <td>35.71</td>\n",
       "      <td>1234880130185</td>\n",
       "    </tr>\n",
       "    <tr>\n",
       "      <th>27</th>\n",
       "      <td>Kelseyland</td>\n",
       "      <td>63</td>\n",
       "      <td>Urban</td>\n",
       "      <td>15.49</td>\n",
       "      <td>5187807155760</td>\n",
       "    </tr>\n",
       "    <tr>\n",
       "      <th>28</th>\n",
       "      <td>Nguyenbury</td>\n",
       "      <td>8</td>\n",
       "      <td>Urban</td>\n",
       "      <td>6.28</td>\n",
       "      <td>1543057793673</td>\n",
       "    </tr>\n",
       "    <tr>\n",
       "      <th>29</th>\n",
       "      <td>Nguyenbury</td>\n",
       "      <td>8</td>\n",
       "      <td>Urban</td>\n",
       "      <td>19.49</td>\n",
       "      <td>1702803950740</td>\n",
       "    </tr>\n",
       "    <tr>\n",
       "      <th>...</th>\n",
       "      <td>...</td>\n",
       "      <td>...</td>\n",
       "      <td>...</td>\n",
       "      <td>...</td>\n",
       "      <td>...</td>\n",
       "    </tr>\n",
       "    <tr>\n",
       "      <th>2377</th>\n",
       "      <td>East Leslie</td>\n",
       "      <td>9</td>\n",
       "      <td>Rural</td>\n",
       "      <td>40.47</td>\n",
       "      <td>7075058703398</td>\n",
       "    </tr>\n",
       "    <tr>\n",
       "      <th>2378</th>\n",
       "      <td>East Leslie</td>\n",
       "      <td>9</td>\n",
       "      <td>Rural</td>\n",
       "      <td>45.80</td>\n",
       "      <td>9402873395510</td>\n",
       "    </tr>\n",
       "    <tr>\n",
       "      <th>2379</th>\n",
       "      <td>East Leslie</td>\n",
       "      <td>9</td>\n",
       "      <td>Rural</td>\n",
       "      <td>44.78</td>\n",
       "      <td>6113138249150</td>\n",
       "    </tr>\n",
       "    <tr>\n",
       "      <th>2380</th>\n",
       "      <td>East Leslie</td>\n",
       "      <td>9</td>\n",
       "      <td>Rural</td>\n",
       "      <td>15.71</td>\n",
       "      <td>7275986542384</td>\n",
       "    </tr>\n",
       "    <tr>\n",
       "      <th>2381</th>\n",
       "      <td>East Leslie</td>\n",
       "      <td>9</td>\n",
       "      <td>Rural</td>\n",
       "      <td>51.32</td>\n",
       "      <td>6841691147797</td>\n",
       "    </tr>\n",
       "    <tr>\n",
       "      <th>2382</th>\n",
       "      <td>East Leslie</td>\n",
       "      <td>9</td>\n",
       "      <td>Rural</td>\n",
       "      <td>13.43</td>\n",
       "      <td>8814831098684</td>\n",
       "    </tr>\n",
       "    <tr>\n",
       "      <th>2383</th>\n",
       "      <td>East Leslie</td>\n",
       "      <td>9</td>\n",
       "      <td>Rural</td>\n",
       "      <td>37.76</td>\n",
       "      <td>804829686137</td>\n",
       "    </tr>\n",
       "    <tr>\n",
       "      <th>2384</th>\n",
       "      <td>East Leslie</td>\n",
       "      <td>9</td>\n",
       "      <td>Rural</td>\n",
       "      <td>30.59</td>\n",
       "      <td>8211833105097</td>\n",
       "    </tr>\n",
       "    <tr>\n",
       "      <th>2385</th>\n",
       "      <td>East Leslie</td>\n",
       "      <td>9</td>\n",
       "      <td>Rural</td>\n",
       "      <td>36.61</td>\n",
       "      <td>5500269118478</td>\n",
       "    </tr>\n",
       "    <tr>\n",
       "      <th>2386</th>\n",
       "      <td>East Leslie</td>\n",
       "      <td>9</td>\n",
       "      <td>Rural</td>\n",
       "      <td>34.54</td>\n",
       "      <td>684950063164</td>\n",
       "    </tr>\n",
       "    <tr>\n",
       "      <th>2387</th>\n",
       "      <td>Hernandezshire</td>\n",
       "      <td>10</td>\n",
       "      <td>Rural</td>\n",
       "      <td>58.95</td>\n",
       "      <td>3176534714830</td>\n",
       "    </tr>\n",
       "    <tr>\n",
       "      <th>2388</th>\n",
       "      <td>Hernandezshire</td>\n",
       "      <td>10</td>\n",
       "      <td>Rural</td>\n",
       "      <td>28.78</td>\n",
       "      <td>6382848462030</td>\n",
       "    </tr>\n",
       "    <tr>\n",
       "      <th>2389</th>\n",
       "      <td>Hernandezshire</td>\n",
       "      <td>10</td>\n",
       "      <td>Rural</td>\n",
       "      <td>30.32</td>\n",
       "      <td>7342649945759</td>\n",
       "    </tr>\n",
       "    <tr>\n",
       "      <th>2390</th>\n",
       "      <td>Hernandezshire</td>\n",
       "      <td>10</td>\n",
       "      <td>Rural</td>\n",
       "      <td>23.35</td>\n",
       "      <td>7443355895137</td>\n",
       "    </tr>\n",
       "    <tr>\n",
       "      <th>2391</th>\n",
       "      <td>Hernandezshire</td>\n",
       "      <td>10</td>\n",
       "      <td>Rural</td>\n",
       "      <td>10.41</td>\n",
       "      <td>9823290002445</td>\n",
       "    </tr>\n",
       "    <tr>\n",
       "      <th>2392</th>\n",
       "      <td>Hernandezshire</td>\n",
       "      <td>10</td>\n",
       "      <td>Rural</td>\n",
       "      <td>26.29</td>\n",
       "      <td>304182959218</td>\n",
       "    </tr>\n",
       "    <tr>\n",
       "      <th>2393</th>\n",
       "      <td>Hernandezshire</td>\n",
       "      <td>10</td>\n",
       "      <td>Rural</td>\n",
       "      <td>38.45</td>\n",
       "      <td>2898512024847</td>\n",
       "    </tr>\n",
       "    <tr>\n",
       "      <th>2394</th>\n",
       "      <td>Hernandezshire</td>\n",
       "      <td>10</td>\n",
       "      <td>Rural</td>\n",
       "      <td>26.79</td>\n",
       "      <td>3095402154397</td>\n",
       "    </tr>\n",
       "    <tr>\n",
       "      <th>2395</th>\n",
       "      <td>Hernandezshire</td>\n",
       "      <td>10</td>\n",
       "      <td>Rural</td>\n",
       "      <td>44.68</td>\n",
       "      <td>6389115653382</td>\n",
       "    </tr>\n",
       "    <tr>\n",
       "      <th>2396</th>\n",
       "      <td>Horneland</td>\n",
       "      <td>8</td>\n",
       "      <td>Rural</td>\n",
       "      <td>12.63</td>\n",
       "      <td>8214498891817</td>\n",
       "    </tr>\n",
       "    <tr>\n",
       "      <th>2397</th>\n",
       "      <td>Horneland</td>\n",
       "      <td>8</td>\n",
       "      <td>Rural</td>\n",
       "      <td>31.53</td>\n",
       "      <td>1797785685674</td>\n",
       "    </tr>\n",
       "    <tr>\n",
       "      <th>2398</th>\n",
       "      <td>Horneland</td>\n",
       "      <td>8</td>\n",
       "      <td>Rural</td>\n",
       "      <td>21.73</td>\n",
       "      <td>5665544449606</td>\n",
       "    </tr>\n",
       "    <tr>\n",
       "      <th>2399</th>\n",
       "      <td>Horneland</td>\n",
       "      <td>8</td>\n",
       "      <td>Rural</td>\n",
       "      <td>20.04</td>\n",
       "      <td>5729327140644</td>\n",
       "    </tr>\n",
       "    <tr>\n",
       "      <th>2400</th>\n",
       "      <td>West Kevintown</td>\n",
       "      <td>5</td>\n",
       "      <td>Rural</td>\n",
       "      <td>12.92</td>\n",
       "      <td>6460741616450</td>\n",
       "    </tr>\n",
       "    <tr>\n",
       "      <th>2401</th>\n",
       "      <td>West Kevintown</td>\n",
       "      <td>5</td>\n",
       "      <td>Rural</td>\n",
       "      <td>11.15</td>\n",
       "      <td>8622534016726</td>\n",
       "    </tr>\n",
       "    <tr>\n",
       "      <th>2402</th>\n",
       "      <td>West Kevintown</td>\n",
       "      <td>5</td>\n",
       "      <td>Rural</td>\n",
       "      <td>42.13</td>\n",
       "      <td>4568909568268</td>\n",
       "    </tr>\n",
       "    <tr>\n",
       "      <th>2403</th>\n",
       "      <td>West Kevintown</td>\n",
       "      <td>5</td>\n",
       "      <td>Rural</td>\n",
       "      <td>24.53</td>\n",
       "      <td>8188407925972</td>\n",
       "    </tr>\n",
       "    <tr>\n",
       "      <th>2404</th>\n",
       "      <td>West Kevintown</td>\n",
       "      <td>5</td>\n",
       "      <td>Rural</td>\n",
       "      <td>11.78</td>\n",
       "      <td>2001192693573</td>\n",
       "    </tr>\n",
       "    <tr>\n",
       "      <th>2405</th>\n",
       "      <td>West Kevintown</td>\n",
       "      <td>5</td>\n",
       "      <td>Rural</td>\n",
       "      <td>13.50</td>\n",
       "      <td>9577921579881</td>\n",
       "    </tr>\n",
       "    <tr>\n",
       "      <th>2406</th>\n",
       "      <td>West Kevintown</td>\n",
       "      <td>5</td>\n",
       "      <td>Rural</td>\n",
       "      <td>34.69</td>\n",
       "      <td>9595491362610</td>\n",
       "    </tr>\n",
       "  </tbody>\n",
       "</table>\n",
       "<p>2407 rows × 5 columns</p>\n",
       "</div>"
      ],
      "text/plain": [
       "                city  driver_count   type   fare        ride_id\n",
       "0         Kelseyland            63  Urban   5.51  6246006544795\n",
       "1         Kelseyland            63  Urban   5.54  7466473222333\n",
       "2         Kelseyland            63  Urban  30.54  2140501382736\n",
       "3         Kelseyland            63  Urban  12.08  1896987891309\n",
       "4         Kelseyland            63  Urban  17.91  8784212854829\n",
       "5         Kelseyland            63  Urban  33.56  4797969661996\n",
       "6         Kelseyland            63  Urban  20.81  9811478565448\n",
       "7         Kelseyland            63  Urban  44.53  1563171128434\n",
       "8         Kelseyland            63  Urban  29.02  6897992353955\n",
       "9         Kelseyland            63  Urban  20.05  1148374505062\n",
       "10        Kelseyland            63  Urban   9.29   213692794373\n",
       "11        Kelseyland            63  Urban  20.58  3395682132130\n",
       "12        Kelseyland            63  Urban  27.45  8456148871668\n",
       "13        Kelseyland            63  Urban  33.51  6610565660737\n",
       "14        Kelseyland            63  Urban   6.56  8101498434215\n",
       "15        Kelseyland            63  Urban  20.19  3054122642867\n",
       "16        Kelseyland            63  Urban  35.22  5946467060438\n",
       "17        Kelseyland            63  Urban  10.31  2180910323678\n",
       "18        Kelseyland            63  Urban  11.45   600800386573\n",
       "19        Kelseyland            63  Urban  27.85  5748868894243\n",
       "20        Kelseyland            63  Urban   8.27  4384089549855\n",
       "21        Kelseyland            63  Urban  31.67  2865704421982\n",
       "22        Kelseyland            63  Urban  40.92  2769007541388\n",
       "23        Kelseyland            63  Urban  12.58  6629798205387\n",
       "24        Kelseyland            63  Urban  16.77  7223504701591\n",
       "25        Kelseyland            63  Urban  27.21   831362906446\n",
       "26        Kelseyland            63  Urban  35.71  1234880130185\n",
       "27        Kelseyland            63  Urban  15.49  5187807155760\n",
       "28        Nguyenbury             8  Urban   6.28  1543057793673\n",
       "29        Nguyenbury             8  Urban  19.49  1702803950740\n",
       "...              ...           ...    ...    ...            ...\n",
       "2377     East Leslie             9  Rural  40.47  7075058703398\n",
       "2378     East Leslie             9  Rural  45.80  9402873395510\n",
       "2379     East Leslie             9  Rural  44.78  6113138249150\n",
       "2380     East Leslie             9  Rural  15.71  7275986542384\n",
       "2381     East Leslie             9  Rural  51.32  6841691147797\n",
       "2382     East Leslie             9  Rural  13.43  8814831098684\n",
       "2383     East Leslie             9  Rural  37.76   804829686137\n",
       "2384     East Leslie             9  Rural  30.59  8211833105097\n",
       "2385     East Leslie             9  Rural  36.61  5500269118478\n",
       "2386     East Leslie             9  Rural  34.54   684950063164\n",
       "2387  Hernandezshire            10  Rural  58.95  3176534714830\n",
       "2388  Hernandezshire            10  Rural  28.78  6382848462030\n",
       "2389  Hernandezshire            10  Rural  30.32  7342649945759\n",
       "2390  Hernandezshire            10  Rural  23.35  7443355895137\n",
       "2391  Hernandezshire            10  Rural  10.41  9823290002445\n",
       "2392  Hernandezshire            10  Rural  26.29   304182959218\n",
       "2393  Hernandezshire            10  Rural  38.45  2898512024847\n",
       "2394  Hernandezshire            10  Rural  26.79  3095402154397\n",
       "2395  Hernandezshire            10  Rural  44.68  6389115653382\n",
       "2396       Horneland             8  Rural  12.63  8214498891817\n",
       "2397       Horneland             8  Rural  31.53  1797785685674\n",
       "2398       Horneland             8  Rural  21.73  5665544449606\n",
       "2399       Horneland             8  Rural  20.04  5729327140644\n",
       "2400  West Kevintown             5  Rural  12.92  6460741616450\n",
       "2401  West Kevintown             5  Rural  11.15  8622534016726\n",
       "2402  West Kevintown             5  Rural  42.13  4568909568268\n",
       "2403  West Kevintown             5  Rural  24.53  8188407925972\n",
       "2404  West Kevintown             5  Rural  11.78  2001192693573\n",
       "2405  West Kevintown             5  Rural  13.50  9577921579881\n",
       "2406  West Kevintown             5  Rural  34.69  9595491362610\n",
       "\n",
       "[2407 rows x 5 columns]"
      ]
     },
     "execution_count": 42,
     "metadata": {},
     "output_type": "execute_result"
    }
   ],
   "source": [
    "combined_data_df = pd.merge(city_data_df, ride_data_df, how='outer', on='city')\n",
    "del combined_data_df['date']\n",
    "combined_data_df"
   ]
  },
  {
   "cell_type": "code",
   "execution_count": 43,
   "metadata": {},
   "outputs": [
    {
     "name": "stdout",
     "output_type": "stream",
     "text": [
      "              city  driver_count   type   fare        ride_id\n",
      "0       Kelseyland            63  Urban   5.51  6246006544795\n",
      "1       Kelseyland            63  Urban   5.54  7466473222333\n",
      "2       Kelseyland            63  Urban  30.54  2140501382736\n",
      "3       Kelseyland            63  Urban  12.08  1896987891309\n",
      "4       Kelseyland            63  Urban  17.91  8784212854829\n",
      "5       Kelseyland            63  Urban  33.56  4797969661996\n",
      "6       Kelseyland            63  Urban  20.81  9811478565448\n",
      "7       Kelseyland            63  Urban  44.53  1563171128434\n",
      "8       Kelseyland            63  Urban  29.02  6897992353955\n",
      "9       Kelseyland            63  Urban  20.05  1148374505062\n",
      "10      Kelseyland            63  Urban   9.29   213692794373\n",
      "11      Kelseyland            63  Urban  20.58  3395682132130\n",
      "12      Kelseyland            63  Urban  27.45  8456148871668\n",
      "13      Kelseyland            63  Urban  33.51  6610565660737\n",
      "14      Kelseyland            63  Urban   6.56  8101498434215\n",
      "15      Kelseyland            63  Urban  20.19  3054122642867\n",
      "16      Kelseyland            63  Urban  35.22  5946467060438\n",
      "17      Kelseyland            63  Urban  10.31  2180910323678\n",
      "18      Kelseyland            63  Urban  11.45   600800386573\n",
      "19      Kelseyland            63  Urban  27.85  5748868894243\n",
      "20      Kelseyland            63  Urban   8.27  4384089549855\n",
      "21      Kelseyland            63  Urban  31.67  2865704421982\n",
      "22      Kelseyland            63  Urban  40.92  2769007541388\n",
      "23      Kelseyland            63  Urban  12.58  6629798205387\n",
      "24      Kelseyland            63  Urban  16.77  7223504701591\n",
      "25      Kelseyland            63  Urban  27.21   831362906446\n",
      "26      Kelseyland            63  Urban  35.71  1234880130185\n",
      "27      Kelseyland            63  Urban  15.49  5187807155760\n",
      "28      Nguyenbury             8  Urban   6.28  1543057793673\n",
      "29      Nguyenbury             8  Urban  19.49  1702803950740\n",
      "...            ...           ...    ...    ...            ...\n",
      "1595  Alvarezhaven            21  Urban   6.42  8394540350728\n",
      "1596  Alvarezhaven            21  Urban  18.09  1197329964911\n",
      "1597  Alvarezhaven            21  Urban  20.74   357421158941\n",
      "1598  Alvarezhaven            21  Urban  14.25  6431434271355\n",
      "1599  Alvarezhaven            21  Urban  20.23  4348900295000\n",
      "1600  Alvarezhaven            21  Urban  39.28  8878745717970\n",
      "1601  Alvarezhaven            21  Urban   9.87  2747592323442\n",
      "1602  Alvarezhaven            21  Urban  31.82  7948246793429\n",
      "1603  Alvarezhaven            21  Urban  20.61  8307812366044\n",
      "1604  Alvarezhaven            21  Urban  31.08  7413831046469\n",
      "1605  Alvarezhaven            21  Urban  42.41  7825539032352\n",
      "1606  Alvarezhaven            21  Urban  24.16  9047320468692\n",
      "1607  Alvarezhaven            21  Urban  20.88  9456788060940\n",
      "1608  Alvarezhaven            21  Urban  17.67  3829336915201\n",
      "1609  Alvarezhaven            21  Urban  40.04  1806812593131\n",
      "1610  Alvarezhaven            21  Urban  43.34  3938173695105\n",
      "1611  Alvarezhaven            21  Urban  35.22  5405756761666\n",
      "1612  Alvarezhaven            21  Urban  22.83  3565582370530\n",
      "1613  Alvarezhaven            21  Urban  22.54  6435260355302\n",
      "1614  Alvarezhaven            21  Urban  42.00  7852567608457\n",
      "1615  Alvarezhaven            21  Urban   4.07  6100187302721\n",
      "1616  Alvarezhaven            21  Urban   5.16  2233026076010\n",
      "1617  Alvarezhaven            21  Urban   5.34  1108172306544\n",
      "1618  Alvarezhaven            21  Urban  31.74  5487020911007\n",
      "1619  Alvarezhaven            21  Urban  32.46   858631473935\n",
      "1620  Alvarezhaven            21  Urban  33.62  8974645194719\n",
      "1621  Alvarezhaven            21  Urban  27.51  6282665852239\n",
      "1622  Alvarezhaven            21  Urban   6.45  8939751998750\n",
      "1623  Alvarezhaven            21  Urban   6.72  6152998520191\n",
      "1624  Alvarezhaven            21  Urban  33.31   306054352684\n",
      "\n",
      "[1625 rows x 5 columns]\n"
     ]
    }
   ],
   "source": [
    "Urban = combined_data_df[combined_data_df['type'] == \"Urban\"]\n",
    "print(avg_fare)"
   ]
  },
  {
   "cell_type": "code",
   "execution_count": 44,
   "metadata": {},
   "outputs": [
    {
     "name": "stdout",
     "output_type": "stream",
     "text": [
      "                  city  driver_count      type   fare        ride_id\n",
      "1625       Carrollbury             4  Suburban  25.00   485795568537\n",
      "1626       Carrollbury             4  Suburban  49.47   617204620844\n",
      "1627       Carrollbury             4  Suburban  35.33    73368831241\n",
      "1628       Carrollbury             4  Suburban  20.26  7948046018548\n",
      "1629       Carrollbury             4  Suburban  46.67  4786094151694\n",
      "1630       Carrollbury             4  Suburban  44.22  6459562305940\n",
      "1631       Carrollbury             4  Suburban  34.90  8699745721565\n",
      "1632       Carrollbury             4  Suburban  47.88  1288226293003\n",
      "1633       Carrollbury             4  Suburban  24.36  7992828891256\n",
      "1634       Carrollbury             4  Suburban  37.97  4395282429585\n",
      "1635    Williamchester            26  Suburban  30.72  8203822920323\n",
      "1636    Williamchester            26  Suburban  41.04  4383983578923\n",
      "1637    Williamchester            26  Suburban  31.91  5362699747075\n",
      "1638    Williamchester            26  Suburban  36.07  4922838323136\n",
      "1639    Williamchester            26  Suburban  25.91  4677896988123\n",
      "1640    Williamchester            26  Suburban  48.47  6529898720226\n",
      "1641    Williamchester            26  Suburban  41.25  9414595182903\n",
      "1642    Williamchester            26  Suburban  33.75  8817502166163\n",
      "1643    Williamchester            26  Suburban  23.62  2455293950361\n",
      "1644    Williamchester            26  Suburban  44.37  4341000080149\n",
      "1645    Williamchester            26  Suburban  19.95  3362713962981\n",
      "1646  New Michelleberg             9  Suburban  27.33  4786622689927\n",
      "1647  New Michelleberg             9  Suburban  31.77  2821566079327\n",
      "1648  New Michelleberg             9  Suburban  18.74  3755005483286\n",
      "1649  New Michelleberg             9  Suburban  12.57  8955073597969\n",
      "1650  New Michelleberg             9  Suburban  32.15  7613749224588\n",
      "1651  New Michelleberg             9  Suburban  14.81  3554336501696\n",
      "1652  New Michelleberg             9  Suburban  19.47  3105353614687\n",
      "1653  New Michelleberg             9  Suburban  15.08  6317456118314\n",
      "1654  New Michelleberg             9  Suburban  15.76  4613798088004\n",
      "...                ...           ...       ...    ...            ...\n",
      "2252   North Tracyfort            18  Suburban  23.21  6002446501978\n",
      "2253   North Tracyfort            18  Suburban  21.92  1332876355342\n",
      "2254   North Tracyfort            18  Suburban  12.76  6874219865163\n",
      "2255   North Tracyfort            18  Suburban  49.20  8858130821345\n",
      "2256       Martinmouth             5  Suburban  15.78  7253951228785\n",
      "2257       Martinmouth             5  Suburban  39.92   155794037869\n",
      "2258       Martinmouth             5  Suburban  24.76  2090749775206\n",
      "2259       Martinmouth             5  Suburban  24.07  4713008941201\n",
      "2260       Martinmouth             5  Suburban  41.13  8387195416611\n",
      "2261       Martinmouth             5  Suburban  46.01  7370807523891\n",
      "2262       Martinmouth             5  Suburban  29.03   568812204547\n",
      "2263       Martinmouth             5  Suburban  15.49  2838087595946\n",
      "2264       Martinmouth             5  Suburban  38.30  8533541191606\n",
      "2265  New Jessicamouth            22  Suburban  18.95  2895933324303\n",
      "2266  New Jessicamouth            22  Suburban  38.79   740553329134\n",
      "2267  New Jessicamouth            22  Suburban  44.09  3992141200784\n",
      "2268  New Jessicamouth            22  Suburban  26.41  8459455899004\n",
      "2269  New Jessicamouth            22  Suburban  26.17  1455925680803\n",
      "2270  New Jessicamouth            22  Suburban  19.72  2110231519290\n",
      "2271  New Jessicamouth            22  Suburban  48.04   110306836705\n",
      "2272  New Jessicamouth            22  Suburban  34.64  3429718443072\n",
      "2273  New Jessicamouth            22  Suburban  43.96  2648125330121\n",
      "2274  New Jessicamouth            22  Suburban  23.83  2174175458954\n",
      "2275  New Jessicamouth            22  Suburban  21.92  1982991238954\n",
      "2276  New Jessicamouth            22  Suburban  39.17   820574534622\n",
      "2277  New Jessicamouth            22  Suburban  49.95  7153762992366\n",
      "2278  New Jessicamouth            22  Suburban  30.04  2292425164476\n",
      "2279  New Jessicamouth            22  Suburban  24.27  2755333176738\n",
      "2280  New Jessicamouth            22  Suburban  30.24  6872721534416\n",
      "2281  New Jessicamouth            22  Suburban  37.59  5545308851404\n",
      "\n",
      "[657 rows x 5 columns]\n"
     ]
    }
   ],
   "source": [
    "Suburban = combined_data_df[combined_data_df['type'] == \"Suburban\"]\n",
    "print(Suburban)"
   ]
  },
  {
   "cell_type": "code",
   "execution_count": 45,
   "metadata": {},
   "outputs": [
    {
     "name": "stdout",
     "output_type": "stream",
     "text": [
      "                      city  driver_count   type   fare        ride_id\n",
      "2282  South Elizabethmouth             3  Rural  22.79  8193837300497\n",
      "2283  South Elizabethmouth             3  Rural  26.72  4943246873754\n",
      "2284  South Elizabethmouth             3  Rural  46.39  1939838068038\n",
      "2285  South Elizabethmouth             3  Rural  31.09  2959749591417\n",
      "2286  South Elizabethmouth             3  Rural  16.50  5702608059064\n",
      "2287         East Troybury             3  Rural  45.12  1607319707836\n",
      "2288         East Troybury             3  Rural  35.77  9725377510815\n",
      "2289         East Troybury             3  Rural  59.53  5277708038641\n",
      "2290         East Troybury             3  Rural  14.01  6867080292206\n",
      "2291         East Troybury             3  Rural  12.88  5989452220219\n",
      "2292         East Troybury             3  Rural  26.60  2964889579584\n",
      "2293         East Troybury             3  Rural  38.80  9205811495606\n",
      "2294             Kinghaven             3  Rural  20.53  6432117120069\n",
      "2295             Kinghaven             3  Rural  54.73  9861677486822\n",
      "2296             Kinghaven             3  Rural  29.88  9429195617069\n",
      "2297             Kinghaven             3  Rural  29.51  7225032916195\n",
      "2298             Kinghaven             3  Rural  29.15  7556363986770\n",
      "2299             Kinghaven             3  Rural  46.08  8440329717166\n",
      "2300          New Johnbury             6  Rural  56.60  9002881309143\n",
      "2301          New Johnbury             6  Rural  24.03  8781417245667\n",
      "2302          New Johnbury             6  Rural  40.71  2918447130656\n",
      "2303          New Johnbury             6  Rural  18.83  7368222134792\n",
      "2304              Erikport             3  Rural  11.76  3568184448232\n",
      "2305              Erikport             3  Rural  25.18  5044558212428\n",
      "2306              Erikport             3  Rural  26.40  8819643364798\n",
      "2307              Erikport             3  Rural  10.66  9287766069118\n",
      "2308              Erikport             3  Rural  23.38  6392257942917\n",
      "2309              Erikport             3  Rural  51.09  3151357214095\n",
      "2310              Erikport             3  Rural  44.21  9598643212986\n",
      "2311              Erikport             3  Rural  47.67  9201708664049\n",
      "...                    ...           ...    ...    ...            ...\n",
      "2377           East Leslie             9  Rural  40.47  7075058703398\n",
      "2378           East Leslie             9  Rural  45.80  9402873395510\n",
      "2379           East Leslie             9  Rural  44.78  6113138249150\n",
      "2380           East Leslie             9  Rural  15.71  7275986542384\n",
      "2381           East Leslie             9  Rural  51.32  6841691147797\n",
      "2382           East Leslie             9  Rural  13.43  8814831098684\n",
      "2383           East Leslie             9  Rural  37.76   804829686137\n",
      "2384           East Leslie             9  Rural  30.59  8211833105097\n",
      "2385           East Leslie             9  Rural  36.61  5500269118478\n",
      "2386           East Leslie             9  Rural  34.54   684950063164\n",
      "2387        Hernandezshire            10  Rural  58.95  3176534714830\n",
      "2388        Hernandezshire            10  Rural  28.78  6382848462030\n",
      "2389        Hernandezshire            10  Rural  30.32  7342649945759\n",
      "2390        Hernandezshire            10  Rural  23.35  7443355895137\n",
      "2391        Hernandezshire            10  Rural  10.41  9823290002445\n",
      "2392        Hernandezshire            10  Rural  26.29   304182959218\n",
      "2393        Hernandezshire            10  Rural  38.45  2898512024847\n",
      "2394        Hernandezshire            10  Rural  26.79  3095402154397\n",
      "2395        Hernandezshire            10  Rural  44.68  6389115653382\n",
      "2396             Horneland             8  Rural  12.63  8214498891817\n",
      "2397             Horneland             8  Rural  31.53  1797785685674\n",
      "2398             Horneland             8  Rural  21.73  5665544449606\n",
      "2399             Horneland             8  Rural  20.04  5729327140644\n",
      "2400        West Kevintown             5  Rural  12.92  6460741616450\n",
      "2401        West Kevintown             5  Rural  11.15  8622534016726\n",
      "2402        West Kevintown             5  Rural  42.13  4568909568268\n",
      "2403        West Kevintown             5  Rural  24.53  8188407925972\n",
      "2404        West Kevintown             5  Rural  11.78  2001192693573\n",
      "2405        West Kevintown             5  Rural  13.50  9577921579881\n",
      "2406        West Kevintown             5  Rural  34.69  9595491362610\n",
      "\n",
      "[125 rows x 5 columns]\n"
     ]
    }
   ],
   "source": [
    "Rural = combined_data_df[combined_data_df['type'] == \"Rural\"]\n",
    "print(Rural)"
   ]
  },
  {
   "cell_type": "code",
   "execution_count": 47,
   "metadata": {},
   "outputs": [
    {
     "data": {
      "text/plain": [
       "city\n",
       "Alvarezhaven         31\n",
       "Alyssaberg           26\n",
       "Antoniomouth         22\n",
       "Aprilchester         19\n",
       "Arnoldview           31\n",
       "Carrollfort          29\n",
       "Davidtown            21\n",
       "Davistown            25\n",
       "East Douglas         22\n",
       "East Erin            28\n",
       "Edwardsbury          27\n",
       "Eriktown             19\n",
       "Fosterside           24\n",
       "Jacobfort            31\n",
       "Kellershire          19\n",
       "Kelseyland           28\n",
       "Kimberlychester      27\n",
       "Lake Jeffreyland     25\n",
       "Lake Jennaton        25\n",
       "Lake Sarashire       22\n",
       "Lake Stevenbury      21\n",
       "Lisatown             23\n",
       "Lisaville            28\n",
       "Maryside             21\n",
       "Mooreview            21\n",
       "New Aaron            22\n",
       "New Andreamouth      28\n",
       "New Christine        22\n",
       "New David            28\n",
       "New Jeffrey          25\n",
       "                     ..\n",
       "Port Martinberg      21\n",
       "Port Samantha        27\n",
       "Prattfurt            24\n",
       "Rodriguezburgh       23\n",
       "Russellport          23\n",
       "Sandymouth           27\n",
       "Sarabury             27\n",
       "Smithhaven           27\n",
       "South Bryanstad      21\n",
       "South Josephville    24\n",
       "South Louis          32\n",
       "South Roy            22\n",
       "Spencertown          26\n",
       "Stewartview          30\n",
       "Swansonbury          34\n",
       "Torresshire          26\n",
       "Travisville          23\n",
       "Vickimouth           15\n",
       "West Alexis          20\n",
       "West Brandy          30\n",
       "West Brittanyton     24\n",
       "West Dawnfurt        29\n",
       "West Jefferyfurt     21\n",
       "West Oscar           29\n",
       "West Peter           31\n",
       "West Sydneyhaven     18\n",
       "Williamshire         31\n",
       "Wiseborough          19\n",
       "Yolandafurt          20\n",
       "Zimmermanmouth       24\n",
       "Name: ride_id, Length: 66, dtype: int64"
      ]
     },
     "execution_count": 47,
     "metadata": {},
     "output_type": "execute_result"
    }
   ],
   "source": [
    "urban_count = Urban.groupby([\"city\"]).count()[\"ride_id\"]\n",
    "urban_count"
   ]
  },
  {
   "cell_type": "code",
   "execution_count": 49,
   "metadata": {},
   "outputs": [
    {
     "name": "stdout",
     "output_type": "stream",
     "text": [
      "city\n",
      "Alvarezhaven         23.928710\n",
      "Alyssaberg           20.609615\n",
      "Antoniomouth         23.625000\n",
      "Aprilchester         21.981579\n",
      "Arnoldview           25.106452\n",
      "Carrollfort          25.395517\n",
      "Davidtown            22.978095\n",
      "Davistown            21.497200\n",
      "East Douglas         26.169091\n",
      "East Erin            24.478214\n",
      "Edwardsbury          26.876667\n",
      "Eriktown             25.478947\n",
      "Fosterside           23.034583\n",
      "Jacobfort            24.779355\n",
      "Kellershire          24.169474\n",
      "Kelseyland           21.806429\n",
      "Kimberlychester      22.947037\n",
      "Lake Jeffreyland     27.334800\n",
      "Lake Jennaton        25.349600\n",
      "Lake Sarashire       26.610000\n",
      "Lake Stevenbury      24.657619\n",
      "Lisatown             22.225217\n",
      "Lisaville            28.428929\n",
      "Maryside             26.844286\n",
      "Mooreview            29.520476\n",
      "New Aaron            26.861818\n",
      "New Andreamouth      24.966786\n",
      "New Christine        24.157727\n",
      "New David            27.084286\n",
      "New Jeffrey          24.130000\n",
      "                       ...    \n",
      "Port Martinberg      22.329524\n",
      "Port Samantha        27.047407\n",
      "Prattfurt            23.346667\n",
      "Rodriguezburgh       21.332609\n",
      "Russellport          22.486087\n",
      "Sandymouth           23.105926\n",
      "Sarabury             23.490000\n",
      "Smithhaven           22.788889\n",
      "South Bryanstad      24.598571\n",
      "South Josephville    26.823750\n",
      "South Louis          27.087500\n",
      "South Roy            26.031364\n",
      "Spencertown          23.681154\n",
      "Stewartview          21.614000\n",
      "Swansonbury          27.464706\n",
      "Torresshire          24.207308\n",
      "Travisville          27.220870\n",
      "Vickimouth           21.474667\n",
      "West Alexis          19.523000\n",
      "West Brandy          24.157667\n",
      "West Brittanyton     25.436250\n",
      "West Dawnfurt        22.330345\n",
      "West Jefferyfurt     21.072857\n",
      "West Oscar           24.280000\n",
      "West Peter           24.875484\n",
      "West Sydneyhaven     22.368333\n",
      "Williamshire         26.990323\n",
      "Wiseborough          22.676842\n",
      "Yolandafurt          27.205500\n",
      "Zimmermanmouth       28.301667\n",
      "Name: fare, Length: 66, dtype: float64\n"
     ]
    }
   ],
   "source": [
    "urban_fare = Urban.groupby([\"city\"]).mean()[\"fare\"]\n",
    "print(urban_fare)"
   ]
  },
  {
   "cell_type": "code",
   "execution_count": 50,
   "metadata": {},
   "outputs": [
    {
     "name": "stdout",
     "output_type": "stream",
     "text": [
      "city\n",
      "Alvarezhaven         21.0\n",
      "Alyssaberg           67.0\n",
      "Antoniomouth         21.0\n",
      "Aprilchester         49.0\n",
      "Arnoldview           41.0\n",
      "Carrollfort          55.0\n",
      "Davidtown            73.0\n",
      "Davistown            25.0\n",
      "East Douglas         12.0\n",
      "East Erin            43.0\n",
      "Edwardsbury          11.0\n",
      "Eriktown             15.0\n",
      "Fosterside           69.0\n",
      "Jacobfort            52.0\n",
      "Kellershire          51.0\n",
      "Kelseyland           63.0\n",
      "Kimberlychester      13.0\n",
      "Lake Jeffreyland     15.0\n",
      "Lake Jennaton        65.0\n",
      "Lake Sarashire        8.0\n",
      "Lake Stevenbury      63.0\n",
      "Lisatown             47.0\n",
      "Lisaville            66.0\n",
      "Maryside             20.0\n",
      "Mooreview            34.0\n",
      "New Aaron            60.0\n",
      "New Andreamouth      42.0\n",
      "New Christine        22.0\n",
      "New David            31.0\n",
      "New Jeffrey          58.0\n",
      "                     ... \n",
      "Port Martinberg      44.0\n",
      "Port Samantha        55.0\n",
      "Prattfurt            43.0\n",
      "Rodriguezburgh       52.0\n",
      "Russellport           9.0\n",
      "Sandymouth           11.0\n",
      "Sarabury             46.0\n",
      "Smithhaven           67.0\n",
      "South Bryanstad      73.0\n",
      "South Josephville     4.0\n",
      "South Louis          12.0\n",
      "South Roy            35.0\n",
      "Spencertown          68.0\n",
      "Stewartview          49.0\n",
      "Swansonbury          64.0\n",
      "Torresshire          70.0\n",
      "Travisville          37.0\n",
      "Vickimouth           13.0\n",
      "West Alexis          47.0\n",
      "West Brandy          12.0\n",
      "West Brittanyton      9.0\n",
      "West Dawnfurt        34.0\n",
      "West Jefferyfurt     65.0\n",
      "West Oscar           11.0\n",
      "West Peter           61.0\n",
      "West Sydneyhaven     70.0\n",
      "Williamshire         70.0\n",
      "Wiseborough          55.0\n",
      "Yolandafurt           7.0\n",
      "Zimmermanmouth       45.0\n",
      "Name: driver_count, Length: 66, dtype: float64\n"
     ]
    }
   ],
   "source": [
    "urban_driver = Urban.groupby([\"city\"]).mean()[\"driver_count\"]\n",
    "print(urban_driver)"
   ]
  },
  {
   "cell_type": "code",
   "execution_count": 52,
   "metadata": {},
   "outputs": [
    {
     "data": {
      "text/plain": [
       "city\n",
       "Anitamouth               9\n",
       "Campbellport            15\n",
       "Carrollbury             10\n",
       "Clarkstad               12\n",
       "Conwaymouth             11\n",
       "East Cherylfurt         13\n",
       "East Jenniferchester    19\n",
       "Floresberg              10\n",
       "Jasonfort               12\n",
       "Jeffreyton              18\n",
       "Johnland                18\n",
       "Kyleton                 16\n",
       "Lake Brenda             17\n",
       "Martinmouth              9\n",
       "New Brandonborough      14\n",
       "New Cindyborough        13\n",
       "New Jessicamouth        17\n",
       "New Lynn                13\n",
       "New Michelleberg        11\n",
       "New Samanthaside        23\n",
       "North Tara               9\n",
       "North Tracyfort         10\n",
       "Paulfort                13\n",
       "Port Alexandria         15\n",
       "Port Guytown            15\n",
       "Port James              64\n",
       "Port Jose               18\n",
       "Port Michelleview       22\n",
       "Rodriguezview           20\n",
       "Sarahview               15\n",
       "South Gracechester      19\n",
       "South Jennifer          16\n",
       "South Shannonborough    15\n",
       "Thomastown              24\n",
       "Tiffanyton              13\n",
       "Webstertown             16\n",
       "West Evan               12\n",
       "West Pamelaborough      14\n",
       "West Paulport           17\n",
       "West Tony               19\n",
       "Williamchester          11\n",
       "Name: ride_id, dtype: int64"
      ]
     },
     "execution_count": 52,
     "metadata": {},
     "output_type": "execute_result"
    }
   ],
   "source": [
    "suburban_count = Suburban.groupby([\"city\"]).count()[\"ride_id\"]\n",
    "suburban_count"
   ]
  },
  {
   "cell_type": "code",
   "execution_count": 53,
   "metadata": {},
   "outputs": [
    {
     "name": "stdout",
     "output_type": "stream",
     "text": [
      "city\n",
      "Anitamouth              16.0\n",
      "Campbellport            26.0\n",
      "Carrollbury              4.0\n",
      "Clarkstad               21.0\n",
      "Conwaymouth             18.0\n",
      "East Cherylfurt          9.0\n",
      "East Jenniferchester    22.0\n",
      "Floresberg               7.0\n",
      "Jasonfort               25.0\n",
      "Jeffreyton               8.0\n",
      "Johnland                13.0\n",
      "Kyleton                 12.0\n",
      "Lake Brenda             24.0\n",
      "Martinmouth              5.0\n",
      "New Brandonborough       9.0\n",
      "New Cindyborough        20.0\n",
      "New Jessicamouth        22.0\n",
      "New Lynn                20.0\n",
      "New Michelleberg         9.0\n",
      "New Samanthaside        16.0\n",
      "North Tara              14.0\n",
      "North Tracyfort         18.0\n",
      "Paulfort                13.0\n",
      "Port Alexandria         27.0\n",
      "Port Guytown            26.0\n",
      "Port James               9.0\n",
      "Port Jose               11.0\n",
      "Port Michelleview       16.0\n",
      "Rodriguezview           10.0\n",
      "Sarahview               18.0\n",
      "South Gracechester      19.0\n",
      "South Jennifer           6.0\n",
      "South Shannonborough     9.0\n",
      "Thomastown               1.0\n",
      "Tiffanyton              21.0\n",
      "Webstertown             26.0\n",
      "West Evan                4.0\n",
      "West Pamelaborough      27.0\n",
      "West Paulport            5.0\n",
      "West Tony               17.0\n",
      "Williamchester          26.0\n",
      "Name: driver_count, dtype: float64\n"
     ]
    }
   ],
   "source": [
    "suburban_driver = Suburban.groupby([\"city\"]).mean()[\"driver_count\"]\n",
    "print(suburban_driver)"
   ]
  },
  {
   "cell_type": "code",
   "execution_count": 54,
   "metadata": {},
   "outputs": [
    {
     "name": "stdout",
     "output_type": "stream",
     "text": [
      "city\n",
      "Anitamouth              37.315556\n",
      "Campbellport            33.711333\n",
      "Carrollbury             36.606000\n",
      "Clarkstad               31.051667\n",
      "Conwaymouth             34.591818\n",
      "East Cherylfurt         31.416154\n",
      "East Jenniferchester    32.599474\n",
      "Floresberg              32.310000\n",
      "Jasonfort               27.831667\n",
      "Jeffreyton              33.165556\n",
      "Johnland                28.752778\n",
      "Kyleton                 31.167500\n",
      "Lake Brenda             29.791176\n",
      "Martinmouth             30.498889\n",
      "New Brandonborough      31.902857\n",
      "New Cindyborough        31.034615\n",
      "New Jessicamouth        32.810588\n",
      "New Lynn                28.454615\n",
      "New Michelleberg        24.971818\n",
      "New Samanthaside        34.069130\n",
      "North Tara              32.386667\n",
      "North Tracyfort         26.856000\n",
      "Paulfort                31.144615\n",
      "Port Alexandria         26.316667\n",
      "Port Guytown            28.242000\n",
      "Port James              31.806562\n",
      "Port Jose               31.193889\n",
      "Port Michelleview       26.720000\n",
      "Rodriguezview           31.866500\n",
      "Sarahview               33.862000\n",
      "South Gracechester      31.345789\n",
      "South Jennifer          29.798750\n",
      "South Shannonborough    26.516667\n",
      "Thomastown              30.308333\n",
      "Tiffanyton              28.510000\n",
      "Webstertown             29.721250\n",
      "West Evan               27.013333\n",
      "West Pamelaborough      33.799286\n",
      "West Paulport           33.278235\n",
      "West Tony               29.609474\n",
      "Williamchester          34.278182\n",
      "Name: fare, dtype: float64\n"
     ]
    }
   ],
   "source": [
    "suburban_fare = Suburban.groupby([\"city\"]).mean()[\"fare\"]\n",
    "print(suburban_fare)"
   ]
  },
  {
   "cell_type": "code",
   "execution_count": 55,
   "metadata": {},
   "outputs": [
    {
     "data": {
      "text/plain": [
       "city\n",
       "East Leslie             11\n",
       "East Stephen            10\n",
       "East Troybury            7\n",
       "Erikport                 8\n",
       "Hernandezshire           9\n",
       "Horneland                4\n",
       "Jacksonfort              6\n",
       "Kennethburgh            10\n",
       "Kinghaven                6\n",
       "Manuelchester            1\n",
       "Matthewside              4\n",
       "New Johnbury             4\n",
       "North Whitney           10\n",
       "Shelbyhaven              6\n",
       "South Elizabethmouth     5\n",
       "South Joseph            12\n",
       "Stevensport              5\n",
       "West Kevintown           7\n",
       "Name: ride_id, dtype: int64"
      ]
     },
     "execution_count": 55,
     "metadata": {},
     "output_type": "execute_result"
    }
   ],
   "source": [
    "rural_count = Rural.groupby([\"city\"]).count()[\"ride_id\"]\n",
    "rural_count"
   ]
  },
  {
   "cell_type": "code",
   "execution_count": 56,
   "metadata": {},
   "outputs": [
    {
     "name": "stdout",
     "output_type": "stream",
     "text": [
      "city\n",
      "East Leslie              9.0\n",
      "East Stephen             6.0\n",
      "East Troybury            3.0\n",
      "Erikport                 3.0\n",
      "Hernandezshire          10.0\n",
      "Horneland                8.0\n",
      "Jacksonfort              6.0\n",
      "Kennethburgh             3.0\n",
      "Kinghaven                3.0\n",
      "Manuelchester            7.0\n",
      "Matthewside              4.0\n",
      "New Johnbury             6.0\n",
      "North Whitney           10.0\n",
      "Shelbyhaven              9.0\n",
      "South Elizabethmouth     3.0\n",
      "South Joseph             3.0\n",
      "Stevensport              6.0\n",
      "West Kevintown           5.0\n",
      "Name: driver_count, dtype: float64\n"
     ]
    }
   ],
   "source": [
    "rural_driver = Rural.groupby([\"city\"]).mean()[\"driver_count\"]\n",
    "print(rural_driver)"
   ]
  },
  {
   "cell_type": "code",
   "execution_count": 57,
   "metadata": {},
   "outputs": [
    {
     "name": "stdout",
     "output_type": "stream",
     "text": [
      "city\n",
      "East Leslie             33.660909\n",
      "East Stephen            39.053000\n",
      "East Troybury           33.244286\n",
      "Erikport                30.043750\n",
      "Hernandezshire          32.002222\n",
      "Horneland               21.482500\n",
      "Jacksonfort             32.006667\n",
      "Kennethburgh            36.928000\n",
      "Kinghaven               34.980000\n",
      "Manuelchester           49.620000\n",
      "Matthewside             43.532500\n",
      "New Johnbury            35.042500\n",
      "North Whitney           38.146000\n",
      "Shelbyhaven             34.828333\n",
      "South Elizabethmouth    28.698000\n",
      "South Joseph            38.983333\n",
      "Stevensport             31.948000\n",
      "West Kevintown          21.528571\n",
      "Name: fare, dtype: float64\n"
     ]
    }
   ],
   "source": [
    "rural_fare = Rural.groupby([\"city\"]).mean()[\"fare\"]\n",
    "print(rural_fare)"
   ]
  },
  {
   "cell_type": "code",
   "execution_count": 62,
   "metadata": {},
   "outputs": [
    {
     "data": {
      "image/png": "[encoded data removed]",
      "text/plain": [
       "<matplotlib.figure.Figure at 0x119f8e630>"
      ]
     },
     "metadata": {},
     "output_type": "display_data"
    }
   ],
   "source": [
    "plt.scatter(urban_count, urban_fare, marker=\"o\", c=\"red\", edgecolors=\"black\", alpha=0.75)\n",
    "\n",
    "plt.title(\"Ride Data Urban\")\n",
    "plt.ylabel(\"Average Fare\")\n",
    "plt.xlabel(\"Total Number of Rides\")\n",
    "plt.xlim((0,50))\n",
    "plt.grid(True)\n",
    "\n",
    "plt.show()"
   ]
  },
  {
   "cell_type": "code",
   "execution_count": 63,
   "metadata": {},
   "outputs": [
    {
     "data": {
      "image/png": "[encoded data removed]",
      "text/plain": [
       "<matplotlib.figure.Figure at 0x11a056ef0>"
      ]
     },
     "metadata": {},
     "output_type": "display_data"
    }
   ],
   "source": [
    "plt.scatter(suburban_count, suburban_fare, marker=\"o\", c =\"blue\", edgecolors=\"black\", alpha=0.75)\n",
    "\n",
    "plt.title(\"Ride Data Suburban\")\n",
    "plt.ylabel(\"Average Fare\")\n",
    "plt.xlabel(\"Total Number of Rides\")\n",
    "plt.xlim((0,50))\n",
    "plt.grid(True)\n",
    "\n",
    "plt.show()"
   ]
  },
  {
   "cell_type": "code",
   "execution_count": 64,
   "metadata": {},
   "outputs": [
    {
     "data": {
      "image/png": "[encoded data removed]",
      "text/plain": [
       "<matplotlib.figure.Figure at 0x114a37ba8>"
      ]
     },
     "metadata": {},
     "output_type": "display_data"
    }
   ],
   "source": [
    "plt.scatter(rural_count, rural_fare, marker=\"o\", c =\"yellow\", edgecolors=\"black\", alpha=0.75)\n",
    "\n",
    "plt.title(\"Ride Data Rural\")\n",
    "plt.ylabel(\"Average Fare\")\n",
    "plt.xlabel(\"Total Number of Rides\")\n",
    "plt.xlim((0,50))\n",
    "plt.grid(True)\n",
    "\n",
    "plt.show()"
   ]
  },
  {
   "cell_type": "code",
   "execution_count": 74,
   "metadata": {},
   "outputs": [
    {
     "data": {
      "text/plain": [
       "type\n",
       "Urban    40078.34\n",
       "Name: fare, dtype: float64"
      ]
     },
     "execution_count": 74,
     "metadata": {},
     "output_type": "execute_result"
    }
   ],
   "source": [
    "urban_fares = Urban.groupby([\"type\"]).sum()[\"fare\"]\n",
    "urban_fares\n"
   ]
  },
  {
   "cell_type": "code",
   "execution_count": 75,
   "metadata": {
    "scrolled": true
   },
   "outputs": [
    {
     "data": {
      "text/plain": [
       "type\n",
       "Suburban    20335.69\n",
       "Name: fare, dtype: float64"
      ]
     },
     "execution_count": 75,
     "metadata": {},
     "output_type": "execute_result"
    }
   ],
   "source": [
    "suburban_fares = Suburban.groupby([\"type\"]).sum()[\"fare\"]\n",
    "suburban_fares"
   ]
  },
  {
   "cell_type": "code",
   "execution_count": 77,
   "metadata": {},
   "outputs": [
    {
     "data": {
      "text/plain": [
       "type\n",
       "Rural    4255.09\n",
       "Name: fare, dtype: float64"
      ]
     },
     "execution_count": 77,
     "metadata": {},
     "output_type": "execute_result"
    }
   ],
   "source": [
    "rural_fares = Rural.groupby([\"type\"]).sum()[\"fare\"]\n",
    "rural_fares"
   ]
  },
  {
   "cell_type": "code",
   "execution_count": 78,
   "metadata": {},
   "outputs": [
    {
     "name": "stdout",
     "output_type": "stream",
     "text": [
      "64669.11999999995\n"
     ]
    }
   ],
   "source": [
    "Total = combined_data_df['fare'].sum()\n",
    "print (Total)\n"
   ]
  },
  {
   "cell_type": "code",
   "execution_count": 86,
   "metadata": {
    "collapsed": true
   },
   "outputs": [],
   "source": [
    "city = [\"Urban\", \"Suburban\", \"Rural\"]\n",
    "Fares = [urban_fares, suburban_fares, rural_fares]\n",
    "colors = [\"red\",\"lightblue\",\"yellow\"]\n",
    "explode = (0.1,0,0)"
   ]
  },
  {
   "cell_type": "code",
   "execution_count": 87,
   "metadata": {},
   "outputs": [
    {
     "data": {
      "text/plain": [
       "([<matplotlib.patches.Wedge at 0x11a48db38>,\n",
       "  <matplotlib.patches.Wedge at 0x11a4985c0>,\n",
       "  <matplotlib.patches.Wedge at 0x11a4a1080>],\n",
       " [Text(-0.379692,-1.13835,'Urban'),\n",
       "  Text(0.554807,0.949836,'Suburban'),\n",
       "  Text(-0.679591,0.86496,'Rural')],\n",
       " [Text(-0.221487,-0.664036,'62.0%'),\n",
       "  Text(0.302622,0.518093,'31.4%'),\n",
       "  Text(-0.370686,0.471796,'6.6%')])"
      ]
     },
     "execution_count": 87,
     "metadata": {},
     "output_type": "execute_result"
    }
   ],
   "source": [
    "plt.pie(Fares, explode=explode, labels=city, colors=colors,\n",
    "        autopct=\"%1.1f%%\", shadow=True, startangle=140)"
   ]
  },
  {
   "cell_type": "code",
   "execution_count": 88,
   "metadata": {},
   "outputs": [
    {
     "data": {
      "text/plain": [
       "(-1.1456975168139261,\n",
       " 1.1006351048329071,\n",
       " -1.2137219090027225,\n",
       " 1.110799785543825)"
      ]
     },
     "execution_count": 88,
     "metadata": {},
     "output_type": "execute_result"
    }
   ],
   "source": [
    "plt.axis(\"equal\")"
   ]
  },
  {
   "cell_type": "code",
   "execution_count": 89,
   "metadata": {},
   "outputs": [
    {
     "data": {
      "image/png": "[encoded data removed]",
      "text/plain": [
       "<matplotlib.figure.Figure at 0x11a210fd0>"
      ]
     },
     "metadata": {},
     "output_type": "display_data"
    }
   ],
   "source": [
    "plt.savefig(\"Pyfares.png\")\n",
    "plt.show()"
   ]
  },
  {
   "cell_type": "code",
   "execution_count": 90,
   "metadata": {},
   "outputs": [
    {
     "data": {
      "text/plain": [
       "type\n",
       "Urban    1625\n",
       "Name: ride_id, dtype: int64"
      ]
     },
     "execution_count": 90,
     "metadata": {},
     "output_type": "execute_result"
    }
   ],
   "source": [
    "urban_rides = Urban.groupby([\"type\"]).count()[\"ride_id\"]\n",
    "urban_rides\n"
   ]
  },
  {
   "cell_type": "code",
   "execution_count": 92,
   "metadata": {},
   "outputs": [
    {
     "data": {
      "text/plain": [
       "type\n",
       "Suburban    657\n",
       "Name: ride_id, dtype: int64"
      ]
     },
     "execution_count": 92,
     "metadata": {},
     "output_type": "execute_result"
    }
   ],
   "source": [
    "suburban_rides = Suburban.groupby([\"type\"]).count()[\"ride_id\"]\n",
    "suburban_rides"
   ]
  },
  {
   "cell_type": "code",
   "execution_count": 94,
   "metadata": {},
   "outputs": [
    {
     "data": {
      "text/plain": [
       "type\n",
       "Rural    125\n",
       "Name: ride_id, dtype: int64"
      ]
     },
     "execution_count": 94,
     "metadata": {},
     "output_type": "execute_result"
    }
   ],
   "source": [
    "rural_rides = Rural.groupby([\"type\"]).count()[\"ride_id\"]\n",
    "rural_rides"
   ]
  },
  {
   "cell_type": "code",
   "execution_count": 96,
   "metadata": {},
   "outputs": [
    {
     "name": "stdout",
     "output_type": "stream",
     "text": [
      "2407\n"
     ]
    }
   ],
   "source": [
    "Total2 = combined_data_df['ride_id'].count()\n",
    "print (Total2)"
   ]
  },
  {
   "cell_type": "code",
   "execution_count": 97,
   "metadata": {
    "collapsed": true
   },
   "outputs": [],
   "source": [
    "city = [\"Urban\", \"Suburban\", \"Rural\"]\n",
    "rides = [urban_rides, suburban_rides, rural_rides]\n",
    "colors = [\"red\",\"lightblue\",\"yellow\"]\n",
    "explode = (0.1,0,0)"
   ]
  },
  {
   "cell_type": "code",
   "execution_count": 98,
   "metadata": {},
   "outputs": [
    {
     "data": {
      "text/plain": [
       "([<matplotlib.patches.Wedge at 0x11a4e78d0>,\n",
       "  <matplotlib.patches.Wedge at 0x11a543358>,\n",
       "  <matplotlib.patches.Wedge at 0x11a543dd8>],\n",
       " [Text(-0.176945,-1.18688,'Urban'),\n",
       "  Text(0.33676,1.04718,'Suburban'),\n",
       "  Text(-0.716614,0.834544,'Rural')],\n",
       " [Text(-0.103218,-0.692348,'67.5%'),\n",
       "  Text(0.183687,0.571191,'27.3%'),\n",
       "  Text(-0.39088,0.455206,'5.2%')])"
      ]
     },
     "execution_count": 98,
     "metadata": {},
     "output_type": "execute_result"
    }
   ],
   "source": [
    "plt.pie(rides, explode=explode, labels=city, colors=colors,\n",
    "        autopct=\"%1.1f%%\", shadow=True, startangle=140)"
   ]
  },
  {
   "cell_type": "code",
   "execution_count": 99,
   "metadata": {},
   "outputs": [
    {
     "data": {
      "text/plain": [
       "(-1.1318994900686343,\n",
       " 1.1012790797869609,\n",
       " -1.2203949174910071,\n",
       " 1.1161315927506879)"
      ]
     },
     "execution_count": 99,
     "metadata": {},
     "output_type": "execute_result"
    }
   ],
   "source": [
    "plt.axis(\"equal\")"
   ]
  },
  {
   "cell_type": "code",
   "execution_count": 100,
   "metadata": {},
   "outputs": [
    {
     "data": {
      "image/png": "[encoded data removed]",
      "text/plain": [
       "<matplotlib.figure.Figure at 0x11a205dd8>"
      ]
     },
     "metadata": {},
     "output_type": "display_data"
    }
   ],
   "source": [
    "plt.savefig(\"Pyrides.png\")\n",
    "plt.show()"
   ]
  },
  {
   "cell_type": "code",
   "execution_count": 103,
   "metadata": {},
   "outputs": [
    {
     "data": {
      "text/plain": [
       "type\n",
       "Urban    64501\n",
       "Name: driver_count, dtype: int64"
      ]
     },
     "execution_count": 103,
     "metadata": {},
     "output_type": "execute_result"
    }
   ],
   "source": [
    "urban_drivers = Urban.groupby([\"type\"]).sum()[\"driver_count\"]\n",
    "urban_drivers\n"
   ]
  },
  {
   "cell_type": "code",
   "execution_count": 104,
   "metadata": {},
   "outputs": [
    {
     "data": {
      "text/plain": [
       "type\n",
       "Suburban    9730\n",
       "Name: driver_count, dtype: int64"
      ]
     },
     "execution_count": 104,
     "metadata": {},
     "output_type": "execute_result"
    }
   ],
   "source": [
    "suburban_drivers = Suburban.groupby([\"type\"]).sum()[\"driver_count\"]\n",
    "suburban_drivers\n"
   ]
  },
  {
   "cell_type": "code",
   "execution_count": 105,
   "metadata": {},
   "outputs": [
    {
     "data": {
      "text/plain": [
       "type\n",
       "Rural    727\n",
       "Name: driver_count, dtype: int64"
      ]
     },
     "execution_count": 105,
     "metadata": {},
     "output_type": "execute_result"
    }
   ],
   "source": [
    "rural_drivers = Rural.groupby([\"type\"]).sum()[\"driver_count\"]\n",
    "rural_drivers"
   ]
  },
  {
   "cell_type": "code",
   "execution_count": 106,
   "metadata": {},
   "outputs": [
    {
     "name": "stdout",
     "output_type": "stream",
     "text": [
      "74958\n"
     ]
    }
   ],
   "source": [
    "Total3 = combined_data_df['driver_count'].sum()\n",
    "print (Total3)\n"
   ]
  },
  {
   "cell_type": "code",
   "execution_count": 108,
   "metadata": {
    "collapsed": true
   },
   "outputs": [],
   "source": [
    "city = [\"Urban\", \"Suburban\", \"Rural\"]\n",
    "drivers = [urban_drivers, suburban_drivers, rural_drivers]\n",
    "colors = [\"red\",\"lightblue\",\"yellow\"]\n",
    "explode = (0.1,0,0)"
   ]
  },
  {
   "cell_type": "code",
   "execution_count": 109,
   "metadata": {},
   "outputs": [
    {
     "data": {
      "text/plain": [
       "([<matplotlib.patches.Wedge at 0x11a205748>,\n",
       "  <matplotlib.patches.Wedge at 0x11a1f8da0>,\n",
       "  <matplotlib.patches.Wedge at 0x11a1f82e8>],\n",
       " [Text(0.505037,-1.08855,'Urban'),\n",
       "  Text(-0.432337,1.01148,'Suburban'),\n",
       "  Text(-0.820718,0.732409,'Rural')],\n",
       " [Text(0.294605,-0.634987,'86.0%'),\n",
       "  Text(-0.23582,0.551715,'13.0%'),\n",
       "  Text(-0.447664,0.399496,'1.0%')])"
      ]
     },
     "execution_count": 109,
     "metadata": {},
     "output_type": "execute_result"
    }
   ],
   "source": [
    "plt.pie(drivers, explode=explode, labels=city, colors=colors,\n",
    "        autopct=\"%1.1f%%\", shadow=True, startangle=140)"
   ]
  },
  {
   "cell_type": "code",
   "execution_count": 110,
   "metadata": {},
   "outputs": [
    {
     "data": {
      "text/plain": [
       "(-1.0606110770522226,\n",
       " 1.1488160206900344,\n",
       " -1.2018109972980289,\n",
       " 1.1053932697796949)"
      ]
     },
     "execution_count": 110,
     "metadata": {},
     "output_type": "execute_result"
    }
   ],
   "source": [
    "plt.axis(\"equal\")"
   ]
  },
  {
   "cell_type": "code",
   "execution_count": 111,
   "metadata": {},
   "outputs": [
    {
     "data": {
      "image/png": "[encoded data removed]",
      "text/plain": [
       "<matplotlib.figure.Figure at 0x11a54bda0>"
      ]
     },
     "metadata": {},
     "output_type": "display_data"
    }
   ],
   "source": [
    "plt.savefig(\"Pydrivers.png\")\n",
    "plt.show()"
   ]
  },
  {
   "cell_type": "code",
   "execution_count": null,
   "metadata": {
    "collapsed": true
   },
   "outputs": [],
   "source": []
  }
 ],
 "metadata": {
  "kernelspec": {
   "display_name": "Python 3",
   "language": "python",
   "name": "python3"
  },
  "language_info": {
   "codemirror_mode": {
    "name": "ipython",
    "version": 3
   },
   "file_extension": ".py",
   "mimetype": "text/x-python",
   "name": "python",
   "nbconvert_exporter": "python",
   "pygments_lexer": "ipython3",
   "version": "3.6.3"
  }
 },
 "nbformat": 4,
 "nbformat_minor": 2
}
